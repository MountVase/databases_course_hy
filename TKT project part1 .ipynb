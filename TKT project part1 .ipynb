{
 "cells": [
  {
   "cell_type": "code",
   "execution_count": 1,
   "metadata": {},
   "outputs": [
    {
     "name": "stdout",
     "output_type": "stream",
     "text": [
      "Valitse toiminto: 2\n",
      "Anna opiskelijan nimi: Lil\n",
      "Opiskelijaa ei löytynyt.\n",
      "Valitse toiminto: 0\n",
      "Valitse toiminto: 5\n"
     ]
    }
   ],
   "source": [
    "# Part 1/4 of database project.\n",
    "\n",
    "\n",
    "import sqlite3\n",
    "\n",
    "db = sqlite3.connect(\"kurssit.db\")\n",
    "db.isolation_level = None          # every command is it's own transaction \n",
    "\n",
    "c = db.cursor()  \n",
    "\n",
    "\n",
    "while True:\n",
    "    k = input(\"Valitse toiminto: \")\n",
    "    \n",
    "    if k == \"1\":\n",
    "        kk = input(\"Anna vuosi: \")\n",
    "        \n",
    "        try:\n",
    "            val = int(kk)\n",
    "            c.execute(f\"SELECT SUM(k.laajuus) FROM Kurssit k, Suoritukset s WHERE k.id = s.kurssi_id AND strftime('%Y', s.paivays) = '{val}'\")\n",
    "            s = c.fetchone()[0]\n",
    "            print(\"Opintopisteiden määrä: \", s)\n",
    "        except ValueError:\n",
    "            print(\"Syöte ei ollut vuosiluku.\")\n",
    "        \n",
    "    if k == \"2\":\n",
    "        kk = input(\"Anna opiskelijan nimi: \")\n",
    "        \n",
    "        c.execute(\"SELECT k.nimi, k.laajuus, s.paivays, s.arvosana FROM Kurssit k, Opiskelijat o, Suoritukset s WHERE o.id = s.opiskelija_id AND k.id = s.kurssi_id AND o.nimi = ? ORDER BY s.paivays\", [kk])\n",
    "        \n",
    "        a = c.fetchone()\n",
    "        s = c.fetchall()   # for checking if opiskelija exists\n",
    "        \n",
    "        \n",
    "        if a == None:\n",
    "            print(\"Opiskelijaa ei löytynyt.\")\n",
    "        else:\n",
    "            # c.description()?\n",
    "            print(\"kurssi           op      päiväys         arvosana\")\n",
    "            for i in s:\n",
    "                print(i[0], \"\\t\", i[1], \"\\t\", i[2], \"\\t\", i[3])\n",
    "            \n",
    "    \n",
    "    if k == \"3\":\n",
    "        kk = input(\"Anna kurssin nimi: \")\n",
    "        \n",
    "        c.execute(\"SELECT AVG(s.arvosana) FROM Suoritukset s LEFT JOIN Kurssit k ON k.id = s.kurssi_id WHERE k.nimi = ?\", [kk])\n",
    "        s = c.fetchone()[0]\n",
    "        \n",
    "        \n",
    "        if s == None:\n",
    "            print(\"Kurssia ei löytynyt\")\n",
    "        else:\n",
    "            n = round(s, 2)\n",
    "            print(\"Keskiarvo: \", n)\n",
    "        \n",
    "    \n",
    "    if k == \"4\":\n",
    "        kk = input(\"Anna opettajien määrä: \")\n",
    "        \n",
    "        try:\n",
    "            val = int(kk)\n",
    "            c.execute(f\"SELECT op.nimi, SUM(k.laajuus) FROM Opettajat op LEFT JOIN Kurssit k ON op.id = k.opettaja_id LEFT JOIN Suoritukset s ON s.kurssi_id = k.id GROUP BY op.nimi ORDER BY SUM(k.laajuus) DESC LIMIT {val}\")\n",
    "        \n",
    "            s = c.fetchall()\n",
    "            \n",
    "            print(\"opettaja              op\")\n",
    "            for i in s:\n",
    "                print(str(i[0]).ljust(21), i[1])\n",
    "                \n",
    "        except ValueError:\n",
    "            print(\"Syöte ei ollut kokonaisluku.\")\n",
    "            \n",
    "            \n",
    "    if k == \"5\":\n",
    "        break\n",
    "        \n"
   ]
  },
  {
   "cell_type": "code",
   "execution_count": null,
   "metadata": {},
   "outputs": [],
   "source": []
  }
 ],
 "metadata": {
  "kernelspec": {
   "display_name": "Python 3",
   "language": "python",
   "name": "python3"
  },
  "language_info": {
   "codemirror_mode": {
    "name": "ipython",
    "version": 3
   },
   "file_extension": ".py",
   "mimetype": "text/x-python",
   "name": "python",
   "nbconvert_exporter": "python",
   "pygments_lexer": "ipython3",
   "version": "3.8.3"
  }
 },
 "nbformat": 4,
 "nbformat_minor": 4
}
